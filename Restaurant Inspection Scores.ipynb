{
 "cells": [
  {
   "cell_type": "markdown",
   "metadata": {},
   "source": [
    "# Capstone Report\n",
    "\n"
   ]
  },
  {
   "cell_type": "markdown",
   "metadata": {},
   "source": [
    "The data set chosen is Austin TX Restaurant Inspection Scores for 2014-2017.\n",
    "\n",
    "This data set was gathered from the data.austintexas.gov website and it covers restaurant inspection scores for the last 3 years. The data is given freely by the city of Austin with no restrictions on use. One note about this data set is that it is a rolling 3 year calendar of available scores and so the data for the begining half of 2014 was not included in the set gathered.  \n",
    "\n",
    "Restaurant inspection scores were chosen to give us real world insight into the health, cleanliness, and sanitation practices of Austin restaurants. Scores accumulated over time reveal larger patterns, usually indicating well run, or not-so-well run, restaurants. The significance of knowing the health inspection scores is important to consumers because the general public is typically not allowed into the production or storage area of any given restaurant and therefor cannot validate for themselves the sanitation or cleanliness of said establishment. The restaurant inspection scores, which are public knowledge, give the lay man an indication of if that restaurant runs a sanitary establishment or not. A few things to note about how these scores are acheived from the Austintexas.gov website. \"If no violations are found, a score of 100 is achieved. If more than 30 points are lost, a re-inspection is required and corrections must be made to bring the score above 70, in accordance with the Texas Food Establishment Rules. If subsequent inspections score below 70, compliance actions will be taken.\"\n",
    "\n",
    "A note on sample vs population and this report. Normally, a sample of any population is taken when gathering data because to poll all members of a population is usually prohibitively expensive and/or probibitively difficult. This is not the case with health inspection scores. The state of Texas requires all food establishments maintain a liscense with the state in order to stay open for business. This requirement works in our favor, allowing us to use the entire restaurant population as our data set instead of a representative sample. Austin is also still a small enough city that the total number of restaurants is not very large.\n",
    "\n",
    "The three questions are answered with this data set:\n",
    "- What is the percentage of failed restaurants per year?\n",
    "- What is the average score of all passing restaurants in Austin per year? \n",
    "- Are there restaurants that have failed more than once in each year?"
   ]
  },
  {
   "cell_type": "code",
   "execution_count": 41,
   "metadata": {},
   "outputs": [],
   "source": [
    "# First, set up my working environment.\n",
    "import numpy as np\n",
    "import pandas as pd\n",
    "import scipy as sp\n",
    "import matplotlib.pyplot as plt\n",
    "from datetime import datetime \n",
    "from collections import Counter\n",
    "%matplotlib inline \n"
   ]
  },
  {
   "cell_type": "code",
   "execution_count": 5,
   "metadata": {},
   "outputs": [
    {
     "data": {
      "text/plain": [
       "['Restaurant Name',\n",
       " 'Zip Code',\n",
       " 'Inspection Date',\n",
       " 'Score',\n",
       " 'Address',\n",
       " 'Facility ID',\n",
       " 'Process Description']"
      ]
     },
     "execution_count": 5,
     "metadata": {},
     "output_type": "execute_result"
    }
   ],
   "source": [
    "# I input the raw data and then check the column names, \n",
    "# so I can correctly call them later. \n",
    "res_df = pd.read_csv('Restaurant_Inspection_Scores.csv')\n",
    "list(res_df.columns.values)"
   ]
  },
  {
   "cell_type": "code",
   "execution_count": 6,
   "metadata": {
    "scrolled": true
   },
   "outputs": [
    {
     "data": {
      "text/html": [
       "<div>\n",
       "<style>\n",
       "    .dataframe thead tr:only-child th {\n",
       "        text-align: right;\n",
       "    }\n",
       "\n",
       "    .dataframe thead th {\n",
       "        text-align: left;\n",
       "    }\n",
       "\n",
       "    .dataframe tbody tr th {\n",
       "        vertical-align: top;\n",
       "    }\n",
       "</style>\n",
       "<table border=\"1\" class=\"dataframe\">\n",
       "  <thead>\n",
       "    <tr style=\"text-align: right;\">\n",
       "      <th></th>\n",
       "      <th>Restaurant Name</th>\n",
       "      <th>Zip Code</th>\n",
       "      <th>Inspection Date</th>\n",
       "      <th>Score</th>\n",
       "      <th>Address</th>\n",
       "      <th>Facility ID</th>\n",
       "      <th>Process Description</th>\n",
       "    </tr>\n",
       "  </thead>\n",
       "  <tbody>\n",
       "    <tr>\n",
       "      <th>0</th>\n",
       "      <td>183 Grill Austin Gyros</td>\n",
       "      <td>78729</td>\n",
       "      <td>01/28/2016</td>\n",
       "      <td>95</td>\n",
       "      <td>13729 N US 183 HWY NB Unit 890\\nAUSTIN, TX 787...</td>\n",
       "      <td>11368998</td>\n",
       "      <td>Routine Inspection</td>\n",
       "    </tr>\n",
       "    <tr>\n",
       "      <th>1</th>\n",
       "      <td>183 Grill Austin Gyros</td>\n",
       "      <td>78729</td>\n",
       "      <td>04/10/2017</td>\n",
       "      <td>95</td>\n",
       "      <td>13729 N US 183 HWY NB Unit 890\\nAUSTIN, TX 787...</td>\n",
       "      <td>11368998</td>\n",
       "      <td>Routine Inspection</td>\n",
       "    </tr>\n",
       "    <tr>\n",
       "      <th>2</th>\n",
       "      <td>183 Grill Austin Gyros</td>\n",
       "      <td>78729</td>\n",
       "      <td>08/08/2016</td>\n",
       "      <td>95</td>\n",
       "      <td>13729 N US 183 HWY NB Unit 890\\nAUSTIN, TX 787...</td>\n",
       "      <td>11368998</td>\n",
       "      <td>Routine Inspection</td>\n",
       "    </tr>\n",
       "    <tr>\n",
       "      <th>3</th>\n",
       "      <td>15th Street Cafe</td>\n",
       "      <td>78701</td>\n",
       "      <td>11/10/2015</td>\n",
       "      <td>86</td>\n",
       "      <td>303 W 15TH ST\\nAUSTIN, TX 78701\\n(30.277693, -...</td>\n",
       "      <td>2801033</td>\n",
       "      <td>Routine Inspection</td>\n",
       "    </tr>\n",
       "    <tr>\n",
       "      <th>4</th>\n",
       "      <td>2 Dine 4 Fine Catering</td>\n",
       "      <td>78702</td>\n",
       "      <td>05/18/2015</td>\n",
       "      <td>87</td>\n",
       "      <td>3008 GONZALES ST\\nAUSTIN, TX 78702\\n(30.259363...</td>\n",
       "      <td>2802035</td>\n",
       "      <td>Routine Inspection</td>\n",
       "    </tr>\n",
       "  </tbody>\n",
       "</table>\n",
       "</div>"
      ],
      "text/plain": [
       "          Restaurant Name Zip Code Inspection Date  Score  \\\n",
       "0  183 Grill Austin Gyros    78729      01/28/2016     95   \n",
       "1  183 Grill Austin Gyros    78729      04/10/2017     95   \n",
       "2  183 Grill Austin Gyros    78729      08/08/2016     95   \n",
       "3        15th Street Cafe    78701      11/10/2015     86   \n",
       "4  2 Dine 4 Fine Catering    78702      05/18/2015     87   \n",
       "\n",
       "                                             Address  Facility ID  \\\n",
       "0  13729 N US 183 HWY NB Unit 890\\nAUSTIN, TX 787...     11368998   \n",
       "1  13729 N US 183 HWY NB Unit 890\\nAUSTIN, TX 787...     11368998   \n",
       "2  13729 N US 183 HWY NB Unit 890\\nAUSTIN, TX 787...     11368998   \n",
       "3  303 W 15TH ST\\nAUSTIN, TX 78701\\n(30.277693, -...      2801033   \n",
       "4  3008 GONZALES ST\\nAUSTIN, TX 78702\\n(30.259363...      2802035   \n",
       "\n",
       "  Process Description  \n",
       "0  Routine Inspection  \n",
       "1  Routine Inspection  \n",
       "2  Routine Inspection  \n",
       "3  Routine Inspection  \n",
       "4  Routine Inspection  "
      ]
     },
     "execution_count": 6,
     "metadata": {},
     "output_type": "execute_result"
    }
   ],
   "source": [
    "# Next is to check what the first few lines look like.\n",
    "res_df.head()\n"
   ]
  },
  {
   "cell_type": "markdown",
   "metadata": {},
   "source": [
    "# Exploring the data\n",
    "\n",
    "Now that I've seen the first few lines of my data frame, time to explore the data.  First, lets review the distribution of scores for the entire data set. This will tell me which scores occur most often. "
   ]
  },
  {
   "cell_type": "code",
   "execution_count": 42,
   "metadata": {},
   "outputs": [
    {
     "data": {
      "image/png": "[encoded data removed]",
      "text/plain": [
       "<matplotlib.figure.Figure at 0x10850ada0>"
      ]
     },
     "metadata": {},
     "output_type": "display_data"
    }
   ],
   "source": [
    "score = res_df['Score']\n",
    "plt.title('Restaurant Inspection Scores')\n",
    "plt.xlabel('Score')\n",
    "plt.hist(score, bins=20)\n",
    "plt.show()"
   ]
  },
  {
   "cell_type": "markdown",
   "metadata": {},
   "source": [
    "The histogram for the entire data set reveals nearly all of the scores are passing scores. Of those passing scores, a great majority of them were at or near 100. "
   ]
  },
  {
   "cell_type": "code",
   "execution_count": 43,
   "metadata": {},
   "outputs": [
    {
     "data": {
      "image/png": "[encoded data removed]",
      "text/plain": [
       "<matplotlib.figure.Figure at 0x108518a20>"
      ]
     },
     "metadata": {},
     "output_type": "display_data"
    }
   ],
   "source": [
    "plt.boxplot(score)\n",
    "plt.show()"
   ]
  },
  {
   "cell_type": "markdown",
   "metadata": {},
   "source": [
    "The boxplot revealed some outliers. One with a score of 36! But how many individual restaurants are in the data set? "
   ]
  },
  {
   "cell_type": "code",
   "execution_count": 57,
   "metadata": {},
   "outputs": [
    {
     "data": {
      "text/plain": [
       "4499"
      ]
     },
     "execution_count": 57,
     "metadata": {},
     "output_type": "execute_result"
    }
   ],
   "source": [
    "# Check to see the number of unique restaurant names that occur in the dataframe\n",
    "restaurants = res_df['Restaurant Name'].unique()\n",
    "len(restaurants)"
   ]
  },
  {
   "cell_type": "code",
   "execution_count": 40,
   "metadata": {},
   "outputs": [],
   "source": [
    "# change the inspection date to a datetime object to more easily add a month and year column\n",
    "pd.to_datetime(res_df['Inspection Date']); "
   ]
  },
  {
   "cell_type": "code",
   "execution_count": 11,
   "metadata": {},
   "outputs": [
    {
     "data": {
      "text/html": [
       "<div>\n",
       "<style>\n",
       "    .dataframe thead tr:only-child th {\n",
       "        text-align: right;\n",
       "    }\n",
       "\n",
       "    .dataframe thead th {\n",
       "        text-align: left;\n",
       "    }\n",
       "\n",
       "    .dataframe tbody tr th {\n",
       "        vertical-align: top;\n",
       "    }\n",
       "</style>\n",
       "<table border=\"1\" class=\"dataframe\">\n",
       "  <thead>\n",
       "    <tr style=\"text-align: right;\">\n",
       "      <th></th>\n",
       "      <th>Restaurant Name</th>\n",
       "      <th>Zip Code</th>\n",
       "      <th>Inspection Date</th>\n",
       "      <th>Score</th>\n",
       "      <th>Address</th>\n",
       "      <th>Facility ID</th>\n",
       "      <th>Process Description</th>\n",
       "      <th>year</th>\n",
       "      <th>month</th>\n",
       "    </tr>\n",
       "  </thead>\n",
       "  <tbody>\n",
       "    <tr>\n",
       "      <th>0</th>\n",
       "      <td>183 Grill Austin Gyros</td>\n",
       "      <td>78729</td>\n",
       "      <td>01/28/2016</td>\n",
       "      <td>95</td>\n",
       "      <td>13729 N US 183 HWY NB Unit 890\\nAUSTIN, TX 787...</td>\n",
       "      <td>11368998</td>\n",
       "      <td>Routine Inspection</td>\n",
       "      <td>2016</td>\n",
       "      <td>1</td>\n",
       "    </tr>\n",
       "    <tr>\n",
       "      <th>1</th>\n",
       "      <td>183 Grill Austin Gyros</td>\n",
       "      <td>78729</td>\n",
       "      <td>04/10/2017</td>\n",
       "      <td>95</td>\n",
       "      <td>13729 N US 183 HWY NB Unit 890\\nAUSTIN, TX 787...</td>\n",
       "      <td>11368998</td>\n",
       "      <td>Routine Inspection</td>\n",
       "      <td>2017</td>\n",
       "      <td>4</td>\n",
       "    </tr>\n",
       "    <tr>\n",
       "      <th>2</th>\n",
       "      <td>183 Grill Austin Gyros</td>\n",
       "      <td>78729</td>\n",
       "      <td>08/08/2016</td>\n",
       "      <td>95</td>\n",
       "      <td>13729 N US 183 HWY NB Unit 890\\nAUSTIN, TX 787...</td>\n",
       "      <td>11368998</td>\n",
       "      <td>Routine Inspection</td>\n",
       "      <td>2016</td>\n",
       "      <td>8</td>\n",
       "    </tr>\n",
       "    <tr>\n",
       "      <th>3</th>\n",
       "      <td>15th Street Cafe</td>\n",
       "      <td>78701</td>\n",
       "      <td>11/10/2015</td>\n",
       "      <td>86</td>\n",
       "      <td>303 W 15TH ST\\nAUSTIN, TX 78701\\n(30.277693, -...</td>\n",
       "      <td>2801033</td>\n",
       "      <td>Routine Inspection</td>\n",
       "      <td>2015</td>\n",
       "      <td>11</td>\n",
       "    </tr>\n",
       "    <tr>\n",
       "      <th>4</th>\n",
       "      <td>2 Dine 4 Fine Catering</td>\n",
       "      <td>78702</td>\n",
       "      <td>05/18/2015</td>\n",
       "      <td>87</td>\n",
       "      <td>3008 GONZALES ST\\nAUSTIN, TX 78702\\n(30.259363...</td>\n",
       "      <td>2802035</td>\n",
       "      <td>Routine Inspection</td>\n",
       "      <td>2015</td>\n",
       "      <td>5</td>\n",
       "    </tr>\n",
       "  </tbody>\n",
       "</table>\n",
       "</div>"
      ],
      "text/plain": [
       "          Restaurant Name Zip Code Inspection Date  Score  \\\n",
       "0  183 Grill Austin Gyros    78729      01/28/2016     95   \n",
       "1  183 Grill Austin Gyros    78729      04/10/2017     95   \n",
       "2  183 Grill Austin Gyros    78729      08/08/2016     95   \n",
       "3        15th Street Cafe    78701      11/10/2015     86   \n",
       "4  2 Dine 4 Fine Catering    78702      05/18/2015     87   \n",
       "\n",
       "                                             Address  Facility ID  \\\n",
       "0  13729 N US 183 HWY NB Unit 890\\nAUSTIN, TX 787...     11368998   \n",
       "1  13729 N US 183 HWY NB Unit 890\\nAUSTIN, TX 787...     11368998   \n",
       "2  13729 N US 183 HWY NB Unit 890\\nAUSTIN, TX 787...     11368998   \n",
       "3  303 W 15TH ST\\nAUSTIN, TX 78701\\n(30.277693, -...      2801033   \n",
       "4  3008 GONZALES ST\\nAUSTIN, TX 78702\\n(30.259363...      2802035   \n",
       "\n",
       "  Process Description  year  month  \n",
       "0  Routine Inspection  2016      1  \n",
       "1  Routine Inspection  2017      4  \n",
       "2  Routine Inspection  2016      8  \n",
       "3  Routine Inspection  2015     11  \n",
       "4  Routine Inspection  2015      5  "
      ]
     },
     "execution_count": 11,
     "metadata": {},
     "output_type": "execute_result"
    }
   ],
   "source": [
    "# Adding a month and year column to the data frame and checking the first 5 lines\n",
    "res_df['year'] = pd.DatetimeIndex(res_df['Inspection Date']).year\n",
    "res_df['month'] = pd.DatetimeIndex(res_df['Inspection Date']).month\n",
    "res_df.head() "
   ]
  },
  {
   "cell_type": "markdown",
   "metadata": {},
   "source": [
    "With a 'year' column we can divide the data into different sets and compare them. First, check approximately how large each data frame will be when divided by year. "
   ]
  },
  {
   "cell_type": "code",
   "execution_count": 44,
   "metadata": {},
   "outputs": [
    {
     "data": {
      "image/png": "[encoded data removed]",
      "text/plain": [
       "<matplotlib.figure.Figure at 0x109674400>"
      ]
     },
     "metadata": {},
     "output_type": "display_data"
    }
   ],
   "source": [
    "plt.hist(res_df['year'])\n",
    "plt.show()"
   ]
  },
  {
   "cell_type": "markdown",
   "metadata": {},
   "source": [
    "As expected, there are about half as many entries for 2017 and 2014 as there are for 2015 and 2016. This is consistent with the way a rolling calendar works, as dates past 3 years old drop off. Next is to take a look at what the scores for each year are. Even though we do not have a complete data set for 2014 or 2017, we can still look and see where the scores we do have fall. "
   ]
  },
  {
   "cell_type": "code",
   "execution_count": 13,
   "metadata": {
    "collapsed": true
   },
   "outputs": [],
   "source": [
    "# Separating the data frame into the different years\n",
    "year_2017 = res_df[res_df['year'] == 2017]\n",
    "year_2016 = res_df[res_df['year'] == 2016]\n",
    "year_2015 = res_df[res_df['year'] == 2015]\n",
    "year_2014 = res_df[res_df['year'] == 2014]\n"
   ]
  },
  {
   "cell_type": "code",
   "execution_count": 14,
   "metadata": {
    "scrolled": true
   },
   "outputs": [
    {
     "data": {
      "image/png": "[encoded data removed]",
      "text/plain": [
       "<matplotlib.figure.Figure at 0x107753cc0>"
      ]
     },
     "metadata": {},
     "output_type": "display_data"
    }
   ],
   "source": [
    "# Showing scores by year, with the mean and standard deviation plotted for each year\n",
    "plt.figure(figsize=(15, 5))\n",
    "\n",
    "plt.subplot(1, 4, 1)\n",
    "plt.hist(year_2014['Score'], color='red', alpha=.5)\n",
    "plt.ylim(0, 4500)\n",
    "mean2014 = np.mean(year_2014['Score'])\n",
    "st_dev2014 = np.std(mean2014)\n",
    "plt.axvline(x=mean2014, color='red')\n",
    "plt.axvline(x=(mean2014 + st_dev2014), color='blue', linestyle='--')\n",
    "plt.axvline(x=(mean2014 - st_dev2014), color='blue', linestyle='--')\n",
    "plt.title('2014')\n",
    "\n",
    "plt.subplot(1, 4, 2)\n",
    "plt.hist(year_2015['Score'], color='blue', alpha=.5)\n",
    "plt.ylim(0, 4500)\n",
    "mean2015 = np.mean(year_2015['Score'])\n",
    "st_dev2015 = np.std(mean2015)\n",
    "plt.axvline(x=mean2015, color='red')\n",
    "plt.axvline(x=(mean2015 + st_dev2015), color='blue', linestyle='--')\n",
    "plt.axvline(x=(mean2015 - st_dev2015), color='blue', linestyle='--')\n",
    "plt.title('2015')\n",
    "\n",
    "plt.subplot(1, 4, 3)\n",
    "plt.hist(year_2016['Score'], color='#FF1493', alpha=.5)\n",
    "plt.ylim(0, 4500)\n",
    "mean2016 = np.mean(year_2016['Score'])\n",
    "st_dev2016 = np.std(mean2016)\n",
    "plt.axvline(x=mean2016, color='red')\n",
    "plt.axvline(x=(mean2016 + st_dev2016), color='blue', linestyle='--')\n",
    "plt.axvline(x=(mean2016 - st_dev2016), color='blue', linestyle='--')\n",
    "plt.title('2016')\n",
    "\n",
    "\n",
    "plt.subplot(1, 4, 4)\n",
    "plt.hist(year_2017['Score'], color='#770FAF', alpha=.5)\n",
    "plt.ylim(0, 4500)\n",
    "mean2017 = np.mean(year_2017['Score'])\n",
    "st_dev2017 = np.std(mean2017)\n",
    "plt.axvline(x=mean2017, color='red')\n",
    "plt.axvline(x=(mean2017 + st_dev2016), color='blue', linestyle='--')\n",
    "plt.axvline(x=(mean2017 - st_dev2016), color='blue', linestyle='--')\n",
    "plt.title('2017')\n",
    "\n",
    "plt.show()"
   ]
  },
  {
   "cell_type": "markdown",
   "metadata": {},
   "source": [
    "Once we break down the scores per year, it's easy to see that almost all the scores for each year are passing scores. "
   ]
  },
  {
   "cell_type": "code",
   "execution_count": 36,
   "metadata": {
    "scrolled": true
   },
   "outputs": [],
   "source": [
    "# Separating out the failed inspections and the passing inspections\n",
    "fail_2017 = year_2017[year_2017['Score'] < 70]\n",
    "fail_2016 = year_2016[year_2016['Score'] < 70]\n",
    "fail_2015 = year_2015[year_2015['Score'] < 70]\n",
    "fail_2014 = year_2014[year_2014['Score'] < 70]\n",
    "\n",
    "pass_2017 = year_2017[year_2017['Score'] > 70]\n",
    "pass_2016 = year_2016[year_2016['Score'] > 70]\n",
    "pass_2015 = year_2015[year_2015['Score'] > 70]\n",
    "pass_2014 = year_2014[year_2014['Score'] > 70]\n",
    "\n"
   ]
  },
  {
   "cell_type": "markdown",
   "metadata": {},
   "source": [
    "# Asking analytical questions \n",
    "With the data separated into passing and failing dataframes, they can be compared to find out basic information and begin to tackle our questions. \n",
    "\n",
    "First, what percentage of restaurants failed their inspections per year? \n",
    "\n",
    "- 2014 Failure rate is 1%\n",
    "- 2015 Failure rate is 1%\n",
    "- 2016 Failure rate is 1%\n",
    "- 2017 Failure rade is 1%"
   ]
  },
  {
   "cell_type": "code",
   "execution_count": 50,
   "metadata": {},
   "outputs": [
    {
     "name": "stdout",
     "output_type": "stream",
     "text": [
      "0.01\n"
     ]
    }
   ],
   "source": [
    "fail_percent_2017 = len(fail_2017['Score']) / len(year_2017['Score'])\n",
    "print(\"%.2f\" % fail_percent_2017)"
   ]
  },
  {
   "cell_type": "code",
   "execution_count": 48,
   "metadata": {},
   "outputs": [
    {
     "name": "stdout",
     "output_type": "stream",
     "text": [
      "0.01\n"
     ]
    }
   ],
   "source": [
    "fail_percent_2016 = len(fail_2016['Score']) / len(year_2016['Score'])\n",
    "print(\"%.2f\" % fail_percent_2016)"
   ]
  },
  {
   "cell_type": "code",
   "execution_count": 47,
   "metadata": {},
   "outputs": [
    {
     "name": "stdout",
     "output_type": "stream",
     "text": [
      "0.01\n"
     ]
    }
   ],
   "source": [
    "fail_percent_2015 = len(fail_2015['Score']) / len(year_2015['Score'])\n",
    "print(\"%.2f\" % fail_percent_2015)"
   ]
  },
  {
   "cell_type": "code",
   "execution_count": 49,
   "metadata": {},
   "outputs": [
    {
     "name": "stdout",
     "output_type": "stream",
     "text": [
      "0.01\n"
     ]
    }
   ],
   "source": [
    "fail_percent_2014 = len(fail_2014['Score']) / len(year_2014['Score'])\n",
    "print(\"%.2f\" % fail_percent_2014)"
   ]
  },
  {
   "cell_type": "markdown",
   "metadata": {},
   "source": [
    "# Analytical Question\n",
    "\n",
    "What's the average passing score per year? \n",
    "\n",
    "To find that out, we check the mean of each years data frames that had only passing scores.  \n"
   ]
  },
  {
   "cell_type": "code",
   "execution_count": 55,
   "metadata": {},
   "outputs": [
    {
     "name": "stdout",
     "output_type": "stream",
     "text": [
      "91.96 91.97 91.25 91.6\n"
     ]
    }
   ],
   "source": [
    "# find the mean of the passing scores and round that two 2 places\n",
    "average_2017 = round(np.mean(pass_2017['Score']),2)\n",
    "average_2016 = round(np.mean(pass_2016['Score']),2)\n",
    "average_2015 = round(np.mean(pass_2015['Score']),2)\n",
    "average_2014 = round(np.mean(pass_2014['Score']),2)\n",
    "print(average_2014, average_2015, average_2016, average_2017)\n"
   ]
  },
  {
   "cell_type": "markdown",
   "metadata": {},
   "source": [
    "The average passing score per year:\n",
    "- 2014 is 91.96\n",
    "- 2015 is 91.97\n",
    "- 2016 is 91.25\n",
    "- 2017 is 91.60"
   ]
  },
  {
   "cell_type": "markdown",
   "metadata": {},
   "source": [
    "# Analytical Question\n",
    "Both the average passing score and failure rate for each year appear to be consistent from one year to the next. \n",
    "\n",
    "Last question, are there any restaurants that have failed more than once per year in the last 3 years?  \n",
    "\n",
    "Unfortunately, yes. But so far none this year. \n",
    "\n",
    "- 2017 - None\n",
    "- 2016 - 4\n",
    "- 2015 - 4\n",
    "- 2014 - 1"
   ]
  },
  {
   "cell_type": "code",
   "execution_count": 22,
   "metadata": {},
   "outputs": [
    {
     "data": {
      "text/plain": [
       "[]"
      ]
     },
     "execution_count": 22,
     "metadata": {},
     "output_type": "execute_result"
    }
   ],
   "source": [
    "repeat_offenders_2017 = fail_2017['Restaurant Name']\n",
    "[k for k,v in Counter(repeat_offenders_2017).items() if v>1]"
   ]
  },
  {
   "cell_type": "code",
   "execution_count": 35,
   "metadata": {
    "scrolled": true
   },
   "outputs": [
    {
     "data": {
      "text/plain": [
       "['Curras Grill', \"Madam Mam's\", 'Pho Thaison', 'Star of India Rest.&Bar']"
      ]
     },
     "execution_count": 35,
     "metadata": {},
     "output_type": "execute_result"
    }
   ],
   "source": [
    "repeat_offenders_2016 = fail_2016['Restaurant Name']\n",
    "[k for k,v in Counter(repeat_offenders_2016).items() if v>1]"
   ]
  },
  {
   "cell_type": "code",
   "execution_count": 24,
   "metadata": {},
   "outputs": [
    {
     "data": {
      "text/plain": [
       "['Crawfish Shack and Oyster Bar',\n",
       " 'Midtown Live',\n",
       " '888 Vietnamese',\n",
       " \"Ken's Donuts\"]"
      ]
     },
     "execution_count": 24,
     "metadata": {},
     "output_type": "execute_result"
    }
   ],
   "source": [
    "repeat_offenders_2015 = fail_2015['Restaurant Name']\n",
    "[k for k,v in Counter(repeat_offenders_2015).items() if v>1]"
   ]
  },
  {
   "cell_type": "code",
   "execution_count": 25,
   "metadata": {},
   "outputs": [
    {
     "data": {
      "text/plain": [
       "['Pad Thai']"
      ]
     },
     "execution_count": 25,
     "metadata": {},
     "output_type": "execute_result"
    }
   ],
   "source": [
    "repeat_offenders_2014 = fail_2014['Restaurant Name']\n",
    "[k for k,v in Counter(repeat_offenders_2014).items() if v>1]"
   ]
  },
  {
   "cell_type": "markdown",
   "metadata": {},
   "source": [
    "\n"
   ]
  },
  {
   "cell_type": "markdown",
   "metadata": {},
   "source": [
    "# Further Research\n",
    "\n",
    "More research is required to answer more questions. Some other questions could be 'Where are the failed restaurants located on a map? Are they near each other? Do failed scores occur in less affluent neighborhoods more often? Do the highest scores cluster together?' \n",
    "\n",
    "I would like to map the restaurant scores on a heatmap over a city map so we can see which neighborhoods have the best scoring restaurants. Cartopy and Basemaps were the two mapping toolkits I was most interested in while researching mapping techniques."
   ]
  },
  {
   "cell_type": "code",
   "execution_count": null,
   "metadata": {
    "collapsed": true
   },
   "outputs": [],
   "source": []
  }
 ],
 "metadata": {
  "kernelspec": {
   "display_name": "Python 3",
   "language": "python",
   "name": "python3"
  },
  "language_info": {
   "codemirror_mode": {
    "name": "ipython",
    "version": 3
   },
   "file_extension": ".py",
   "mimetype": "text/x-python",
   "name": "python",
   "nbconvert_exporter": "python",
   "pygments_lexer": "ipython3",
   "version": "3.6.1"
  }
 },
 "nbformat": 4,
 "nbformat_minor": 2
}

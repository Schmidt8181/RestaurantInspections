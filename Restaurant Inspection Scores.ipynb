{
 "cells": [
  {
   "cell_type": "markdown",
   "metadata": {},
   "source": [
    "# Capstone Report\n",
    "\n"
   ]
  },
  {
   "cell_type": "markdown",
   "metadata": {},
   "source": [
    "My chosen data set is Austin TX Restaurant Inspection Scores for 2014-2017.\n",
    "\n",
    "This data set was gathered from the data.austintexas.gov and it covers restaurant inspection scores for the last 3 years. The data is given freely by the city of Austin with no restrictions on use. One note about this data set is it is a rolling 3 year calendar and so the data for the begining half of 2014 was not included in the set I gathered.  \n",
    "\n",
    "One of the reasons I chose restaurant inspection scores is that they can give us insight into the health, cleanliness, and sanitation practices of different restaurants. The accumulation of scores over time allow us to see larger patterns emerge, usually indicating well run, or not-so-well run, restaurants. The significance of knowing the health inspection scores is important to consumers because the general public is typically not allowed into the production or storage area of any given restaurant and therefor cannot validate for themselves the sanitation or cleanliness of said establishment. The restaurant inspection scores, which are public knowledge, give the lay man an indication of if that restaurant runs a sanitary establishment or not. A few things to note about how these scores are acheived from the Austintexas.gov website. \"If no violations are found, a score of 100 is achieved. If more than 30 points are lost, a re-inspection is required and corrections must be made to bring the score above 70, in accordance with the Texas Food Establishment Rules. If subsequent inspections score below 70, compliance actions will be taken.\"\n",
    "\n",
    "\n",
    "The three questions I aim to answer with this data set are:\n",
    "- What is the percentage of failed restaurants per year?\n",
    "- What is the average score of all passing restaurants in Austin? Per year? \n",
    "- Are there restaurants that have failed more than once?"
   ]
  },
  {
   "cell_type": "code",
   "execution_count": 229,
   "metadata": {
    "collapsed": true
   },
   "outputs": [],
   "source": [
    "# First, set up my working environment.\n",
    "import numpy as np\n",
    "import pandas as pd\n",
    "import scipy as sp\n",
    "import matplotlib.pyplot as plt\n",
    "from datetime import datetime \n",
    "from collections import Counter\n",
    "%matplotlib inline "
   ]
  },
  {
   "cell_type": "code",
   "execution_count": 180,
   "metadata": {},
   "outputs": [
    {
     "data": {
      "text/plain": [
       "['Restaurant Name',\n",
       " 'Zip Code',\n",
       " 'Inspection Date',\n",
       " 'Score',\n",
       " 'Address',\n",
       " 'Facility ID',\n",
       " 'Process Description']"
      ]
     },
     "execution_count": 180,
     "metadata": {},
     "output_type": "execute_result"
    }
   ],
   "source": [
    "# I input the raw data and then check the column names, \n",
    "# so I can correctly call them later. \n",
    "res_df = pd.read_csv('Restaurant_Inspection_Scores.csv')\n",
    "list(res_df.columns.values)"
   ]
  },
  {
   "cell_type": "code",
   "execution_count": 181,
   "metadata": {
    "scrolled": true
   },
   "outputs": [
    {
     "data": {
      "text/html": [
       "<div>\n",
       "<style>\n",
       "    .dataframe thead tr:only-child th {\n",
       "        text-align: right;\n",
       "    }\n",
       "\n",
       "    .dataframe thead th {\n",
       "        text-align: left;\n",
       "    }\n",
       "\n",
       "    .dataframe tbody tr th {\n",
       "        vertical-align: top;\n",
       "    }\n",
       "</style>\n",
       "<table border=\"1\" class=\"dataframe\">\n",
       "  <thead>\n",
       "    <tr style=\"text-align: right;\">\n",
       "      <th></th>\n",
       "      <th>Restaurant Name</th>\n",
       "      <th>Zip Code</th>\n",
       "      <th>Inspection Date</th>\n",
       "      <th>Score</th>\n",
       "      <th>Address</th>\n",
       "      <th>Facility ID</th>\n",
       "      <th>Process Description</th>\n",
       "    </tr>\n",
       "  </thead>\n",
       "  <tbody>\n",
       "    <tr>\n",
       "      <th>0</th>\n",
       "      <td>183 Grill Austin Gyros</td>\n",
       "      <td>78729</td>\n",
       "      <td>01/28/2016</td>\n",
       "      <td>95</td>\n",
       "      <td>13729 N US 183 HWY NB Unit 890\\nAUSTIN, TX 787...</td>\n",
       "      <td>11368998</td>\n",
       "      <td>Routine Inspection</td>\n",
       "    </tr>\n",
       "    <tr>\n",
       "      <th>1</th>\n",
       "      <td>183 Grill Austin Gyros</td>\n",
       "      <td>78729</td>\n",
       "      <td>04/10/2017</td>\n",
       "      <td>95</td>\n",
       "      <td>13729 N US 183 HWY NB Unit 890\\nAUSTIN, TX 787...</td>\n",
       "      <td>11368998</td>\n",
       "      <td>Routine Inspection</td>\n",
       "    </tr>\n",
       "    <tr>\n",
       "      <th>2</th>\n",
       "      <td>183 Grill Austin Gyros</td>\n",
       "      <td>78729</td>\n",
       "      <td>08/08/2016</td>\n",
       "      <td>95</td>\n",
       "      <td>13729 N US 183 HWY NB Unit 890\\nAUSTIN, TX 787...</td>\n",
       "      <td>11368998</td>\n",
       "      <td>Routine Inspection</td>\n",
       "    </tr>\n",
       "    <tr>\n",
       "      <th>3</th>\n",
       "      <td>15th Street Cafe</td>\n",
       "      <td>78701</td>\n",
       "      <td>11/10/2015</td>\n",
       "      <td>86</td>\n",
       "      <td>303 W 15TH ST\\nAUSTIN, TX 78701\\n(30.277693, -...</td>\n",
       "      <td>2801033</td>\n",
       "      <td>Routine Inspection</td>\n",
       "    </tr>\n",
       "    <tr>\n",
       "      <th>4</th>\n",
       "      <td>2 Dine 4 Fine Catering</td>\n",
       "      <td>78702</td>\n",
       "      <td>05/18/2015</td>\n",
       "      <td>87</td>\n",
       "      <td>3008 GONZALES ST\\nAUSTIN, TX 78702\\n(30.259363...</td>\n",
       "      <td>2802035</td>\n",
       "      <td>Routine Inspection</td>\n",
       "    </tr>\n",
       "  </tbody>\n",
       "</table>\n",
       "</div>"
      ],
      "text/plain": [
       "          Restaurant Name Zip Code Inspection Date  Score  \\\n",
       "0  183 Grill Austin Gyros    78729      01/28/2016     95   \n",
       "1  183 Grill Austin Gyros    78729      04/10/2017     95   \n",
       "2  183 Grill Austin Gyros    78729      08/08/2016     95   \n",
       "3        15th Street Cafe    78701      11/10/2015     86   \n",
       "4  2 Dine 4 Fine Catering    78702      05/18/2015     87   \n",
       "\n",
       "                                             Address  Facility ID  \\\n",
       "0  13729 N US 183 HWY NB Unit 890\\nAUSTIN, TX 787...     11368998   \n",
       "1  13729 N US 183 HWY NB Unit 890\\nAUSTIN, TX 787...     11368998   \n",
       "2  13729 N US 183 HWY NB Unit 890\\nAUSTIN, TX 787...     11368998   \n",
       "3  303 W 15TH ST\\nAUSTIN, TX 78701\\n(30.277693, -...      2801033   \n",
       "4  3008 GONZALES ST\\nAUSTIN, TX 78702\\n(30.259363...      2802035   \n",
       "\n",
       "  Process Description  \n",
       "0  Routine Inspection  \n",
       "1  Routine Inspection  \n",
       "2  Routine Inspection  \n",
       "3  Routine Inspection  \n",
       "4  Routine Inspection  "
      ]
     },
     "execution_count": 181,
     "metadata": {},
     "output_type": "execute_result"
    }
   ],
   "source": [
    "# Next is to check what the first few lines look like.\n",
    "res_df.head()\n"
   ]
  },
  {
   "cell_type": "markdown",
   "metadata": {},
   "source": [
    "# Exploring the data\n",
    "\n",
    "Now that I've seen the first few lines of my data frame, time to explore the data.  First, I want to see where all the scores for my entire data set fall. This will tell me which scores occur most often. I decided to break the data up into 20 bins. "
   ]
  },
  {
   "cell_type": "code",
   "execution_count": 182,
   "metadata": {},
   "outputs": [
    {
     "data": {
      "text/plain": [
       "(array([  1.00000000e+00,   0.00000000e+00,   2.00000000e+00,\n",
       "          0.00000000e+00,   5.00000000e+00,   1.20000000e+01,\n",
       "          1.90000000e+01,   3.50000000e+01,   4.40000000e+01,\n",
       "          4.20000000e+01,   3.13000000e+02,   4.46000000e+02,\n",
       "          5.85000000e+02,   9.75000000e+02,   1.40500000e+03,\n",
       "          2.72900000e+03,   3.08600000e+03,   3.81000000e+03,\n",
       "          4.04500000e+03,   7.77700000e+03]),\n",
       " array([  36. ,   39.2,   42.4,   45.6,   48.8,   52. ,   55.2,   58.4,\n",
       "          61.6,   64.8,   68. ,   71.2,   74.4,   77.6,   80.8,   84. ,\n",
       "          87.2,   90.4,   93.6,   96.8,  100. ]),\n",
       " <a list of 20 Patch objects>)"
      ]
     },
     "execution_count": 182,
     "metadata": {},
     "output_type": "execute_result"
    },
    {
     "data": {
      "image/png": "[encoded data removed]",
      "text/plain": [
       "<matplotlib.figure.Figure at 0x10b045ba8>"
      ]
     },
     "metadata": {},
     "output_type": "display_data"
    }
   ],
   "source": [
    "score = res_df['Score']\n",
    "plt.title('Restaurant Inspection Scores')\n",
    "plt.xlabel('Score')\n",
    "plt.hist(score, bins=20)"
   ]
  },
  {
   "cell_type": "markdown",
   "metadata": {},
   "source": [
    "Getting a look at this histogram for all the scores in the data set tells me that the vast majority of scores are nearly 100. And it also reveals that actually nearly all the scores in the data set are over 70, a passing score for restaurant inspections. It also reveals a few very far outliers. I decided to use a boxplot to look another look at the data as a whole before breaking it up by year."
   ]
  },
  {
   "cell_type": "code",
   "execution_count": 183,
   "metadata": {},
   "outputs": [
    {
     "data": {
      "text/plain": [
       "{'boxes': [<matplotlib.lines.Line2D at 0x10ba85eb8>],\n",
       " 'caps': [<matplotlib.lines.Line2D at 0x10b4c95f8>,\n",
       "  <matplotlib.lines.Line2D at 0x10b4c9c88>],\n",
       " 'fliers': [<matplotlib.lines.Line2D at 0x10b4d1da0>],\n",
       " 'means': [],\n",
       " 'medians': [<matplotlib.lines.Line2D at 0x10b4d16a0>],\n",
       " 'whiskers': [<matplotlib.lines.Line2D at 0x10ba85048>,\n",
       "  <matplotlib.lines.Line2D at 0x10b4c1b00>]}"
      ]
     },
     "execution_count": 183,
     "metadata": {},
     "output_type": "execute_result"
    },
    {
     "data": {
      "image/png": "[encoded data removed]",
      "text/plain": [
       "<matplotlib.figure.Figure at 0x10abebb70>"
      ]
     },
     "metadata": {},
     "output_type": "display_data"
    }
   ],
   "source": [
    "plt.boxplot(score)"
   ]
  },
  {
   "cell_type": "markdown",
   "metadata": {},
   "source": [
    "The boxplot revealed a number of very, very far outliers. One with a score of 36! But I have a few basic questions before I dive too deep into the outliers. How many restaurants are in the data set? "
   ]
  },
  {
   "cell_type": "code",
   "execution_count": 184,
   "metadata": {},
   "outputs": [
    {
     "data": {
      "text/plain": [
       "4499"
      ]
     },
     "execution_count": 184,
     "metadata": {},
     "output_type": "execute_result"
    }
   ],
   "source": [
    "# Check to see the number of unique restaurant names that occur in the dataframe\n",
    "restaurants = res_df['Restaurant Name'].unique()\n",
    "len(restaurants)"
   ]
  },
  {
   "cell_type": "code",
   "execution_count": 185,
   "metadata": {},
   "outputs": [
    {
     "data": {
      "text/plain": [
       "0       2016-01-28\n",
       "1       2017-04-10\n",
       "2       2016-08-08\n",
       "3       2015-11-10\n",
       "4       2015-05-18\n",
       "5       2016-07-11\n",
       "6       2017-04-13\n",
       "7       2016-10-21\n",
       "8       2015-04-27\n",
       "9       2016-05-02\n",
       "10      2014-07-25\n",
       "11      2015-10-21\n",
       "12      2016-10-24\n",
       "13      2014-12-15\n",
       "14      2016-02-08\n",
       "15      2015-02-10\n",
       "16      2016-07-08\n",
       "17      2015-08-12\n",
       "18      2014-09-12\n",
       "19      2016-12-15\n",
       "20      2017-01-23\n",
       "21      2016-01-25\n",
       "22      2015-03-05\n",
       "23      2015-07-27\n",
       "24      2016-07-28\n",
       "25      2014-09-09\n",
       "26      2015-04-13\n",
       "27      2015-01-29\n",
       "28      2017-02-03\n",
       "29      2016-03-16\n",
       "           ...    \n",
       "25301   2017-03-20\n",
       "25302   2017-03-17\n",
       "25303   2016-03-16\n",
       "25304   2015-09-11\n",
       "25305   2016-04-01\n",
       "25306   2017-01-31\n",
       "25307   2017-05-01\n",
       "25308   2016-06-09\n",
       "25309   2017-01-17\n",
       "25310   2015-09-01\n",
       "25311   2015-07-24\n",
       "25312   2014-09-27\n",
       "25313   2016-03-24\n",
       "25314   2014-10-09\n",
       "25315   2014-09-30\n",
       "25316   2015-11-17\n",
       "25317   2017-04-05\n",
       "25318   2016-01-22\n",
       "25319   2016-11-22\n",
       "25320   2014-07-31\n",
       "25321   2016-09-22\n",
       "25322   2016-09-15\n",
       "25323   2014-10-15\n",
       "25324   2014-09-25\n",
       "25325   2016-12-22\n",
       "25326   2014-08-26\n",
       "25327   2014-10-30\n",
       "25328   2016-11-03\n",
       "25329   2015-02-20\n",
       "25330   2015-07-07\n",
       "Name: Inspection Date, Length: 25331, dtype: datetime64[ns]"
      ]
     },
     "execution_count": 185,
     "metadata": {},
     "output_type": "execute_result"
    }
   ],
   "source": [
    "pd.to_datetime(res_df['Inspection Date']) # change the inspection date to a datetime object"
   ]
  },
  {
   "cell_type": "code",
   "execution_count": 186,
   "metadata": {},
   "outputs": [
    {
     "data": {
      "text/html": [
       "<div>\n",
       "<style>\n",
       "    .dataframe thead tr:only-child th {\n",
       "        text-align: right;\n",
       "    }\n",
       "\n",
       "    .dataframe thead th {\n",
       "        text-align: left;\n",
       "    }\n",
       "\n",
       "    .dataframe tbody tr th {\n",
       "        vertical-align: top;\n",
       "    }\n",
       "</style>\n",
       "<table border=\"1\" class=\"dataframe\">\n",
       "  <thead>\n",
       "    <tr style=\"text-align: right;\">\n",
       "      <th></th>\n",
       "      <th>Restaurant Name</th>\n",
       "      <th>Zip Code</th>\n",
       "      <th>Inspection Date</th>\n",
       "      <th>Score</th>\n",
       "      <th>Address</th>\n",
       "      <th>Facility ID</th>\n",
       "      <th>Process Description</th>\n",
       "      <th>year</th>\n",
       "      <th>month</th>\n",
       "    </tr>\n",
       "  </thead>\n",
       "  <tbody>\n",
       "    <tr>\n",
       "      <th>0</th>\n",
       "      <td>183 Grill Austin Gyros</td>\n",
       "      <td>78729</td>\n",
       "      <td>01/28/2016</td>\n",
       "      <td>95</td>\n",
       "      <td>13729 N US 183 HWY NB Unit 890\\nAUSTIN, TX 787...</td>\n",
       "      <td>11368998</td>\n",
       "      <td>Routine Inspection</td>\n",
       "      <td>2016</td>\n",
       "      <td>1</td>\n",
       "    </tr>\n",
       "    <tr>\n",
       "      <th>1</th>\n",
       "      <td>183 Grill Austin Gyros</td>\n",
       "      <td>78729</td>\n",
       "      <td>04/10/2017</td>\n",
       "      <td>95</td>\n",
       "      <td>13729 N US 183 HWY NB Unit 890\\nAUSTIN, TX 787...</td>\n",
       "      <td>11368998</td>\n",
       "      <td>Routine Inspection</td>\n",
       "      <td>2017</td>\n",
       "      <td>4</td>\n",
       "    </tr>\n",
       "    <tr>\n",
       "      <th>2</th>\n",
       "      <td>183 Grill Austin Gyros</td>\n",
       "      <td>78729</td>\n",
       "      <td>08/08/2016</td>\n",
       "      <td>95</td>\n",
       "      <td>13729 N US 183 HWY NB Unit 890\\nAUSTIN, TX 787...</td>\n",
       "      <td>11368998</td>\n",
       "      <td>Routine Inspection</td>\n",
       "      <td>2016</td>\n",
       "      <td>8</td>\n",
       "    </tr>\n",
       "    <tr>\n",
       "      <th>3</th>\n",
       "      <td>15th Street Cafe</td>\n",
       "      <td>78701</td>\n",
       "      <td>11/10/2015</td>\n",
       "      <td>86</td>\n",
       "      <td>303 W 15TH ST\\nAUSTIN, TX 78701\\n(30.277693, -...</td>\n",
       "      <td>2801033</td>\n",
       "      <td>Routine Inspection</td>\n",
       "      <td>2015</td>\n",
       "      <td>11</td>\n",
       "    </tr>\n",
       "    <tr>\n",
       "      <th>4</th>\n",
       "      <td>2 Dine 4 Fine Catering</td>\n",
       "      <td>78702</td>\n",
       "      <td>05/18/2015</td>\n",
       "      <td>87</td>\n",
       "      <td>3008 GONZALES ST\\nAUSTIN, TX 78702\\n(30.259363...</td>\n",
       "      <td>2802035</td>\n",
       "      <td>Routine Inspection</td>\n",
       "      <td>2015</td>\n",
       "      <td>5</td>\n",
       "    </tr>\n",
       "  </tbody>\n",
       "</table>\n",
       "</div>"
      ],
      "text/plain": [
       "          Restaurant Name Zip Code Inspection Date  Score  \\\n",
       "0  183 Grill Austin Gyros    78729      01/28/2016     95   \n",
       "1  183 Grill Austin Gyros    78729      04/10/2017     95   \n",
       "2  183 Grill Austin Gyros    78729      08/08/2016     95   \n",
       "3        15th Street Cafe    78701      11/10/2015     86   \n",
       "4  2 Dine 4 Fine Catering    78702      05/18/2015     87   \n",
       "\n",
       "                                             Address  Facility ID  \\\n",
       "0  13729 N US 183 HWY NB Unit 890\\nAUSTIN, TX 787...     11368998   \n",
       "1  13729 N US 183 HWY NB Unit 890\\nAUSTIN, TX 787...     11368998   \n",
       "2  13729 N US 183 HWY NB Unit 890\\nAUSTIN, TX 787...     11368998   \n",
       "3  303 W 15TH ST\\nAUSTIN, TX 78701\\n(30.277693, -...      2801033   \n",
       "4  3008 GONZALES ST\\nAUSTIN, TX 78702\\n(30.259363...      2802035   \n",
       "\n",
       "  Process Description  year  month  \n",
       "0  Routine Inspection  2016      1  \n",
       "1  Routine Inspection  2017      4  \n",
       "2  Routine Inspection  2016      8  \n",
       "3  Routine Inspection  2015     11  \n",
       "4  Routine Inspection  2015      5  "
      ]
     },
     "execution_count": 186,
     "metadata": {},
     "output_type": "execute_result"
    }
   ],
   "source": [
    "# Adding a month and year column to the data frame and checking the first 5 lines\n",
    "res_df['year'] = pd.DatetimeIndex(res_df['Inspection Date']).year\n",
    "res_df['month'] = pd.DatetimeIndex(res_df['Inspection Date']).month\n",
    "res_df.head() "
   ]
  },
  {
   "cell_type": "markdown",
   "metadata": {},
   "source": [
    "Now that there is a 'year' column, I can separate the data based on year and look more closely at it. First up is to see what the difference in size is for each of our new data frames. To do this, I simply plotted the year in a histogram. It looks as expected, with 2014 and 2017 being roughly half of what 2015 and 2016 are. Next is to take a look at what the scores for each year are. Even though we do not have a complete data set for 2014 or 2017, we can still look and see where the scores we do have fall. "
   ]
  },
  {
   "cell_type": "code",
   "execution_count": 187,
   "metadata": {},
   "outputs": [
    {
     "data": {
      "text/plain": [
       "(array([ 4206.,     0.,     0.,  8756.,     0.,     0.,  8673.,     0.,\n",
       "            0.,  3696.]),\n",
       " array([ 2014. ,  2014.3,  2014.6,  2014.9,  2015.2,  2015.5,  2015.8,\n",
       "         2016.1,  2016.4,  2016.7,  2017. ]),\n",
       " <a list of 10 Patch objects>)"
      ]
     },
     "execution_count": 187,
     "metadata": {},
     "output_type": "execute_result"
    },
    {
     "data": {
      "image/png": "[encoded data removed]",
      "text/plain": [
       "<matplotlib.figure.Figure at 0x10b484a20>"
      ]
     },
     "metadata": {},
     "output_type": "display_data"
    }
   ],
   "source": [
    "plt.hist(res_df['year'])"
   ]
  },
  {
   "cell_type": "code",
   "execution_count": 188,
   "metadata": {},
   "outputs": [],
   "source": [
    "# Separating the data frame into the different years\n",
    "year_2017 = res_df[res_df['year'] == 2017]\n",
    "year_2016 = res_df[res_df['year'] == 2016]\n",
    "year_2015 = res_df[res_df['year'] == 2015]\n",
    "year_2014 = res_df[res_df['year'] == 2014]\n"
   ]
  },
  {
   "cell_type": "code",
   "execution_count": 246,
   "metadata": {},
   "outputs": [
    {
     "data": {
      "image/png": "[encoded data removed]",
      "text/plain": [
       "<matplotlib.figure.Figure at 0x10b4494e0>"
      ]
     },
     "metadata": {},
     "output_type": "display_data"
    }
   ],
   "source": [
    "# Showing scores by year, with the mean and standard deviation plotted for each year\n",
    "plt.figure(figsize=(15, 5))\n",
    "\n",
    "plt.subplot(1, 4, 1)\n",
    "plt.hist(year_2014['Score'], color='red', alpha=.5)\n",
    "plt.ylim(0, 4500)\n",
    "mean2014 = np.mean(year_2014['Score'])\n",
    "st_dev2014 = np.std(mean2014)\n",
    "plt.axvline(x=mean2014, color='red')\n",
    "plt.axvline(x=(mean2014 + st_dev2014), color='blue', linestyle='--')\n",
    "plt.axvline(x=(mean2014 - st_dev2014), color='blue', linestyle='--')\n",
    "plt.title('2014')\n",
    "\n",
    "plt.subplot(1, 4, 2)\n",
    "plt.hist(year_2015['Score'], color='blue', alpha=.5)\n",
    "plt.ylim(0, 4500)\n",
    "mean2015 = np.mean(year_2015['Score'])\n",
    "st_dev2015 = np.std(mean2015)\n",
    "plt.axvline(x=mean2015, color='red')\n",
    "plt.axvline(x=(mean2015 + st_dev2015), color='blue', linestyle='--')\n",
    "plt.axvline(x=(mean2015 - st_dev2015), color='blue', linestyle='--')\n",
    "plt.title('2015')\n",
    "\n",
    "plt.subplot(1, 4, 3)\n",
    "plt.hist(year_2016['Score'], color='#FF1493', alpha=.5)\n",
    "plt.ylim(0, 4500)\n",
    "mean2016 = np.mean(year_2016['Score'])\n",
    "st_dev2016 = np.std(mean2016)\n",
    "plt.axvline(x=mean2016, color='red')\n",
    "plt.axvline(x=(mean2016 + st_dev2016), color='blue', linestyle='--')\n",
    "plt.axvline(x=(mean2016 - st_dev2016), color='blue', linestyle='--')\n",
    "plt.title('2016')\n",
    "\n",
    "\n",
    "plt.subplot(1, 4, 4)\n",
    "plt.hist(year_2017['Score'], color='#770FAF', alpha=.5)\n",
    "plt.ylim(0, 4500)\n",
    "mean2017 = np.mean(year_2017['Score'])\n",
    "st_dev2017 = np.std(mean2017)\n",
    "plt.axvline(x=mean2017, color='red')\n",
    "plt.axvline(x=(mean2017 + st_dev2016), color='blue', linestyle='--')\n",
    "plt.axvline(x=(mean2017 - st_dev2016), color='blue', linestyle='--')\n",
    "plt.title('2017')\n",
    "\n",
    "plt.show()"
   ]
  },
  {
   "cell_type": "code",
   "execution_count": 205,
   "metadata": {
    "scrolled": true
   },
   "outputs": [
    {
     "data": {
      "image/png": "[encoded data removed]",
      "text/plain": [
       "<matplotlib.figure.Figure at 0x10bbb3f98>"
      ]
     },
     "metadata": {},
     "output_type": "display_data"
    }
   ],
   "source": [
    "# Another view of the same data, laid on top of one another. This is not quite as easy to understand as the other charts\n",
    "plt.hist(year_2014['Score'], bins=50, color='red', alpha=.5)\n",
    "plt.hist(year_2015['Score'], bins=50, color='blue', alpha=.5)\n",
    "plt.hist(year_2016['Score'], bins=50, color='#FF1493', alpha=.5)\n",
    "plt.hist(year_2017['Score'], bins=50, color='#770FAF', alpha=.5)\n",
    "plt.ylim(0, 4000)\n",
    "plt.title('2014, 2015, 2016')\n",
    "\n",
    "plt.show()"
   ]
  },
  {
   "cell_type": "code",
   "execution_count": 191,
   "metadata": {
    "scrolled": true
   },
   "outputs": [],
   "source": [
    "# Separating out the failed inspections and the passing inspections\n",
    "fail_2017 = year_2017[year_2017['Score'] < 70]\n",
    "fail_2016 = year_2016[year_2016['Score'] < 70]\n",
    "fail_2015 = year_2015[year_2015['Score'] < 70]\n",
    "fail_2014 = year_2014[year_2014['Score'] < 70]\n",
    "\n",
    "pass_2017 = year_2017[year_2017['Score'] > 70]\n",
    "pass_2016 = year_2016[year_2016['Score'] > 70]\n",
    "pass_2015 = year_2015[year_2015['Score'] > 70]\n",
    "pass_2014 = year_2014[year_2014['Score'] > 70]\n"
   ]
  },
  {
   "cell_type": "markdown",
   "metadata": {},
   "source": [
    "# Asking analytical questions \n",
    "Now that we've separated the different years into passing and failing dataframes, we can compare them to find out some basic information and begin to tackle our questions. \n",
    "\n",
    "First, what percentage of restaurants failed their inspections per year? \n",
    "\n",
    "Rounding to the nearest 100th percentile,\n",
    "- 2014 Failure rate is 1.02%\n",
    "- 2015 Failure rate is 0.66%\n",
    "- 2016 Failure rate is 0.69%\n",
    "- 2017 Failure rade is 0.62% "
   ]
  },
  {
   "cell_type": "code",
   "execution_count": 192,
   "metadata": {},
   "outputs": [
    {
     "data": {
      "text/plain": [
       "0.006222943722943723"
      ]
     },
     "execution_count": 192,
     "metadata": {},
     "output_type": "execute_result"
    }
   ],
   "source": [
    "fail_percent_2017 = len(fail_2017) / len(year_2017)\n",
    "fail_percent_2017"
   ]
  },
  {
   "cell_type": "code",
   "execution_count": 193,
   "metadata": {},
   "outputs": [
    {
     "data": {
      "text/plain": [
       "0.0069180214458664825"
      ]
     },
     "execution_count": 193,
     "metadata": {},
     "output_type": "execute_result"
    }
   ],
   "source": [
    "fail_percent_2016 = len(fail_2016) / len(year_2016)\n",
    "fail_percent_2016"
   ]
  },
  {
   "cell_type": "code",
   "execution_count": 194,
   "metadata": {},
   "outputs": [
    {
     "data": {
      "text/plain": [
       "0.006624029237094564"
      ]
     },
     "execution_count": 194,
     "metadata": {},
     "output_type": "execute_result"
    }
   ],
   "source": [
    "fail_percent_2015 = len(fail_2015) / len(year_2015)\n",
    "fail_percent_2015"
   ]
  },
  {
   "cell_type": "code",
   "execution_count": 195,
   "metadata": {},
   "outputs": [
    {
     "data": {
      "text/plain": [
       "0.010223490252020923"
      ]
     },
     "execution_count": 195,
     "metadata": {},
     "output_type": "execute_result"
    }
   ],
   "source": [
    "fail_percent_2014 = len(fail_2014) / len(year_2014)\n",
    "fail_percent_2014"
   ]
  },
  {
   "cell_type": "markdown",
   "metadata": {},
   "source": [
    "We know that Austin's restaurants have a failure rate of less than 1% per year. What's the average passing score? \n",
    "\n",
    "To find that out, I simply checked the mean of my data frames that had only passing scores.  \n",
    "\n",
    "The average passing score per year:\n",
    "- 2014 is 91.96\n",
    "- 2015 is 91.97\n",
    "- 2016 is 91.25\n",
    "- 2017 is 91.60"
   ]
  },
  {
   "cell_type": "code",
   "execution_count": 239,
   "metadata": {},
   "outputs": [
    {
     "name": "stdout",
     "output_type": "stream",
     "text": [
      "91.6019709828 91.2503509593 91.97329171 91.9649419729\n"
     ]
    }
   ],
   "source": [
    "average_2017 = np.mean(pass_2017['Score'])\n",
    "average_2016 = np.mean(pass_2016['Score'])\n",
    "average_2015 = np.mean(pass_2015['Score'])\n",
    "average_2014 = np.mean(pass_2014['Score'])\n",
    "print(average_2017, average_2016, average_2015, average_2014)\n"
   ]
  },
  {
   "cell_type": "code",
   "execution_count": null,
   "metadata": {},
   "outputs": [],
   "source": []
  },
  {
   "cell_type": "markdown",
   "metadata": {},
   "source": [
    "Both the average passing score and failure rate for each year seems to be consistent from one year to the next.\n",
    "\n",
    "Last question, are there any restaurants that have failed more than once in the last 3 years? "
   ]
  },
  {
   "cell_type": "code",
   "execution_count": 233,
   "metadata": {},
   "outputs": [
    {
     "data": {
      "text/plain": [
       "[]"
      ]
     },
     "execution_count": 233,
     "metadata": {},
     "output_type": "execute_result"
    }
   ],
   "source": [
    "repeat_offenders_2017 = fail_2017['Restaurant Name']\n",
    "[k for k,v in Counter(repeat_offenders_2017).items() if v>1]"
   ]
  },
  {
   "cell_type": "code",
   "execution_count": 226,
   "metadata": {
    "scrolled": true
   },
   "outputs": [
    {
     "data": {
      "text/plain": [
       "['Curras Grill', \"Madam Mam's\", 'Pho Thaison', 'Star of India Rest.&Bar']"
      ]
     },
     "execution_count": 226,
     "metadata": {},
     "output_type": "execute_result"
    }
   ],
   "source": [
    "repeat_offenders_2016 = fail_2016['Restaurant Name']\n",
    "[k for k,v in Counter(repeat_offenders_2016).items() if v>1]"
   ]
  },
  {
   "cell_type": "code",
   "execution_count": 224,
   "metadata": {},
   "outputs": [
    {
     "data": {
      "text/plain": [
       "['Crawfish Shack and Oyster Bar',\n",
       " 'Midtown Live',\n",
       " '888 Vietnamese',\n",
       " \"Ken's Donuts\"]"
      ]
     },
     "execution_count": 224,
     "metadata": {},
     "output_type": "execute_result"
    }
   ],
   "source": [
    "repeat_offenders_2015 = fail_2015['Restaurant Name']\n",
    "[k for k,v in Counter(repeat_offenders_2015).items() if v>1]"
   ]
  },
  {
   "cell_type": "code",
   "execution_count": 225,
   "metadata": {},
   "outputs": [
    {
     "data": {
      "text/plain": [
       "['Pad Thai']"
      ]
     },
     "execution_count": 225,
     "metadata": {},
     "output_type": "execute_result"
    }
   ],
   "source": [
    "repeat_offenders_2014 = fail_2014['Restaurant Name']\n",
    "[k for k,v in Counter(repeat_offenders_2014).items() if v>1]"
   ]
  },
  {
   "cell_type": "markdown",
   "metadata": {},
   "source": [
    "# Further Research\n",
    "\n",
    "Some questions I was not able to answer in this exploration of the data are 'Where are the failed restaurants located on a map? Are they near each other? Do the failed scores occur in less affluent neighborhoods more often?' \n",
    "\n",
    "I would like to map the restaurant scores on a heatmap over a city map so we can see which neighborhoods have the best scoring restaurants. Cartopy and Basemaps were the two mapping toolkits I was most interested in while researching mapping techniques."
   ]
  },
  {
   "cell_type": "code",
   "execution_count": 227,
   "metadata": {},
   "outputs": [],
   "source": [
    "fail_2017.to_csv('Fail_2017_df.csv')"
   ]
  },
  {
   "cell_type": "code",
   "execution_count": 201,
   "metadata": {
    "collapsed": true
   },
   "outputs": [],
   "source": [
    "fail_2016.to_csv('Fail_2016_df.csv')"
   ]
  },
  {
   "cell_type": "code",
   "execution_count": 202,
   "metadata": {
    "collapsed": true
   },
   "outputs": [],
   "source": [
    "fail_2015.to_csv('Fail_2015_df.csv')"
   ]
  },
  {
   "cell_type": "code",
   "execution_count": 203,
   "metadata": {
    "collapsed": true
   },
   "outputs": [],
   "source": [
    "fail_2014.to_csv('Fail_2014_df.csv')\n",
    "\n",
    "# I just wanted to check how many addresses were missing the lat and lon\n",
    "# coordinates. Turns out, each datafram was only missing less than 3 \n",
    "# sets of coordinates. Because of how little data was actually missing, \n",
    "# I decided to manually replace it in Open Office."
   ]
  },
  {
   "cell_type": "code",
   "execution_count": 204,
   "metadata": {},
   "outputs": [
    {
     "data": {
      "text/html": [
       "<div>\n",
       "<style>\n",
       "    .dataframe thead tr:only-child th {\n",
       "        text-align: right;\n",
       "    }\n",
       "\n",
       "    .dataframe thead th {\n",
       "        text-align: left;\n",
       "    }\n",
       "\n",
       "    .dataframe tbody tr th {\n",
       "        vertical-align: top;\n",
       "    }\n",
       "</style>\n",
       "<table border=\"1\" class=\"dataframe\">\n",
       "  <thead>\n",
       "    <tr style=\"text-align: right;\">\n",
       "      <th></th>\n",
       "      <th>Restaurant Name</th>\n",
       "      <th>Zip Code</th>\n",
       "      <th>Inspection Date</th>\n",
       "      <th>Score</th>\n",
       "      <th>Address</th>\n",
       "      <th>Facility ID</th>\n",
       "      <th>Process Description</th>\n",
       "      <th>year</th>\n",
       "      <th>month</th>\n",
       "    </tr>\n",
       "  </thead>\n",
       "  <tbody>\n",
       "    <tr>\n",
       "      <th>447</th>\n",
       "      <td>Bread Basket - Chevron</td>\n",
       "      <td>78719</td>\n",
       "      <td>09/13/2014</td>\n",
       "      <td>65</td>\n",
       "      <td>9401 S US 183 HWY\\nAUSTIN, TX 78719\\n</td>\n",
       "      <td>10174940</td>\n",
       "      <td>Routine Inspection</td>\n",
       "      <td>2014</td>\n",
       "      <td>9</td>\n",
       "    </tr>\n",
       "    <tr>\n",
       "      <th>2688</th>\n",
       "      <td>Mi Pueblo Meat Market</td>\n",
       "      <td>78724</td>\n",
       "      <td>09/02/2014</td>\n",
       "      <td>64</td>\n",
       "      <td>6575 DECKER LN Bunit 101\\nAUSTIN, TX 78724\\n(3...</td>\n",
       "      <td>10290366</td>\n",
       "      <td>Routine Inspection</td>\n",
       "      <td>2014</td>\n",
       "      <td>9</td>\n",
       "    </tr>\n",
       "    <tr>\n",
       "      <th>3090</th>\n",
       "      <td>Romano's Macaroni Grill</td>\n",
       "      <td>78759</td>\n",
       "      <td>10/22/2014</td>\n",
       "      <td>69</td>\n",
       "      <td>9828 GREAT HILLS TRL Unit 3\\nAUSTIN, TX 78759\\...</td>\n",
       "      <td>10964551</td>\n",
       "      <td>Routine Inspection</td>\n",
       "      <td>2014</td>\n",
       "      <td>10</td>\n",
       "    </tr>\n",
       "    <tr>\n",
       "      <th>4642</th>\n",
       "      <td>Hunan Lion Restaurant</td>\n",
       "      <td>78704</td>\n",
       "      <td>10/20/2014</td>\n",
       "      <td>60</td>\n",
       "      <td>4006 S LAMAR BLVD SB Unit 1000\\nAUSTIN, TX 787...</td>\n",
       "      <td>10988489</td>\n",
       "      <td>Routine Inspection</td>\n",
       "      <td>2014</td>\n",
       "      <td>10</td>\n",
       "    </tr>\n",
       "    <tr>\n",
       "      <th>4844</th>\n",
       "      <td>Shack Food Corner</td>\n",
       "      <td>78721</td>\n",
       "      <td>08/28/2014</td>\n",
       "      <td>68</td>\n",
       "      <td>1167 WEBBERVILLE RD\\nAUSTIN, TX 78721\\n(30.277...</td>\n",
       "      <td>10189322</td>\n",
       "      <td>Routine Inspection</td>\n",
       "      <td>2014</td>\n",
       "      <td>8</td>\n",
       "    </tr>\n",
       "  </tbody>\n",
       "</table>\n",
       "</div>"
      ],
      "text/plain": [
       "              Restaurant Name Zip Code Inspection Date  Score  \\\n",
       "447    Bread Basket - Chevron    78719      09/13/2014     65   \n",
       "2688    Mi Pueblo Meat Market    78724      09/02/2014     64   \n",
       "3090  Romano's Macaroni Grill    78759      10/22/2014     69   \n",
       "4642    Hunan Lion Restaurant    78704      10/20/2014     60   \n",
       "4844        Shack Food Corner    78721      08/28/2014     68   \n",
       "\n",
       "                                                Address  Facility ID  \\\n",
       "447               9401 S US 183 HWY\\nAUSTIN, TX 78719\\n     10174940   \n",
       "2688  6575 DECKER LN Bunit 101\\nAUSTIN, TX 78724\\n(3...     10290366   \n",
       "3090  9828 GREAT HILLS TRL Unit 3\\nAUSTIN, TX 78759\\...     10964551   \n",
       "4642  4006 S LAMAR BLVD SB Unit 1000\\nAUSTIN, TX 787...     10988489   \n",
       "4844  1167 WEBBERVILLE RD\\nAUSTIN, TX 78721\\n(30.277...     10189322   \n",
       "\n",
       "     Process Description  year  month  \n",
       "447   Routine Inspection  2014      9  \n",
       "2688  Routine Inspection  2014      9  \n",
       "3090  Routine Inspection  2014     10  \n",
       "4642  Routine Inspection  2014     10  \n",
       "4844  Routine Inspection  2014      8  "
      ]
     },
     "execution_count": 204,
     "metadata": {},
     "output_type": "execute_result"
    }
   ],
   "source": [
    "fail_2014.head()"
   ]
  },
  {
   "cell_type": "markdown",
   "metadata": {},
   "source": []
  },
  {
   "cell_type": "code",
   "execution_count": null,
   "metadata": {
    "collapsed": true
   },
   "outputs": [],
   "source": []
  }
 ],
 "metadata": {
  "kernelspec": {
   "display_name": "Python 3",
   "language": "python",
   "name": "python3"
  },
  "language_info": {
   "codemirror_mode": {
    "name": "ipython",
    "version": 3
   },
   "file_extension": ".py",
   "mimetype": "text/x-python",
   "name": "python",
   "nbconvert_exporter": "python",
   "pygments_lexer": "ipython3",
   "version": "3.6.1"
  }
 },
 "nbformat": 4,
 "nbformat_minor": 2
}

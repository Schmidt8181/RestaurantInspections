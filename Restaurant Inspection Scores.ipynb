{
 "cells": [
  {
   "cell_type": "code",
   "execution_count": 2,
   "metadata": {
    "collapsed": true
   },
   "outputs": [],
   "source": [
    "import numpy as np\n",
    "import pandas as pd\n",
    "import scipy as sp\n",
    "import matplotlib.pyplot as plt\n",
    "%matplotlib inline "
   ]
  },
  {
   "cell_type": "markdown",
   "metadata": {},
   "source": [
    "# Austin TX Restaurant Inspection Scores for 2014-2017\n",
    "\n",
    "This data set was gathered from the data.austintexas.gov and it covers restaurant inspection scores for the last 3 years. The data is given freely by the city of Austin with no restrictions on use.  \n",
    "\n",
    "Restaurant inspection scores can give one insight into the health, cleanliness, and sanitation practices of different restaurants and the accumulation of scores over time allow us to see a larger picture pattern, usually indicating a well run, or not-so-well run, restaurant. The significance of following the health inspection scores is important to consumers because the general public is not allowed into the production or storage area of any given restaurant and therefor cannot validate for themselves the sanitation or cleanliness of said establishment. The restaurant inspection scores, which are public knowledge, give the lay man a ball-park indication of if that restaurant runs a sanitary establishment or not. From the Austintexas.gov website, regarding what restaurant inspection scores mean:\"If no violations are found, a score of 100 is achieved. If more than 30 points are lost, a re-inspection is required and corrections must be made to bring the score above 70, in accordance with the Texas Food Establishment Rules. If subsequent inspections score below 70, compliance actions will be taken.\""
   ]
  },
  {
   "cell_type": "code",
   "execution_count": 3,
   "metadata": {
    "collapsed": true
   },
   "outputs": [],
   "source": [
    "res_df = pd.read_csv('Restaurant_Inspection_Scores.csv')"
   ]
  },
  {
   "cell_type": "code",
   "execution_count": 4,
   "metadata": {},
   "outputs": [
    {
     "data": {
      "text/html": [
       "<div>\n",
       "<style>\n",
       "    .dataframe thead tr:only-child th {\n",
       "        text-align: right;\n",
       "    }\n",
       "\n",
       "    .dataframe thead th {\n",
       "        text-align: left;\n",
       "    }\n",
       "\n",
       "    .dataframe tbody tr th {\n",
       "        vertical-align: top;\n",
       "    }\n",
       "</style>\n",
       "<table border=\"1\" class=\"dataframe\">\n",
       "  <thead>\n",
       "    <tr style=\"text-align: right;\">\n",
       "      <th></th>\n",
       "      <th>Restaurant Name</th>\n",
       "      <th>Zip Code</th>\n",
       "      <th>Inspection Date</th>\n",
       "      <th>Score</th>\n",
       "      <th>Address</th>\n",
       "      <th>Facility ID</th>\n",
       "      <th>Process Description</th>\n",
       "    </tr>\n",
       "  </thead>\n",
       "  <tbody>\n",
       "    <tr>\n",
       "      <th>0</th>\n",
       "      <td>183 Grill Austin Gyros</td>\n",
       "      <td>78729</td>\n",
       "      <td>01/28/2016</td>\n",
       "      <td>95</td>\n",
       "      <td>13729 N US 183 HWY NB Unit 890\\nAUSTIN, TX 787...</td>\n",
       "      <td>11368998</td>\n",
       "      <td>Routine Inspection</td>\n",
       "    </tr>\n",
       "    <tr>\n",
       "      <th>1</th>\n",
       "      <td>183 Grill Austin Gyros</td>\n",
       "      <td>78729</td>\n",
       "      <td>04/10/2017</td>\n",
       "      <td>95</td>\n",
       "      <td>13729 N US 183 HWY NB Unit 890\\nAUSTIN, TX 787...</td>\n",
       "      <td>11368998</td>\n",
       "      <td>Routine Inspection</td>\n",
       "    </tr>\n",
       "    <tr>\n",
       "      <th>2</th>\n",
       "      <td>183 Grill Austin Gyros</td>\n",
       "      <td>78729</td>\n",
       "      <td>08/08/2016</td>\n",
       "      <td>95</td>\n",
       "      <td>13729 N US 183 HWY NB Unit 890\\nAUSTIN, TX 787...</td>\n",
       "      <td>11368998</td>\n",
       "      <td>Routine Inspection</td>\n",
       "    </tr>\n",
       "    <tr>\n",
       "      <th>3</th>\n",
       "      <td>15th Street Cafe</td>\n",
       "      <td>78701</td>\n",
       "      <td>11/10/2015</td>\n",
       "      <td>86</td>\n",
       "      <td>303 W 15TH ST\\nAUSTIN, TX 78701\\n(30.277693, -...</td>\n",
       "      <td>2801033</td>\n",
       "      <td>Routine Inspection</td>\n",
       "    </tr>\n",
       "    <tr>\n",
       "      <th>4</th>\n",
       "      <td>2 Dine 4 Fine Catering</td>\n",
       "      <td>78702</td>\n",
       "      <td>05/18/2015</td>\n",
       "      <td>87</td>\n",
       "      <td>3008 GONZALES ST\\nAUSTIN, TX 78702\\n(30.259363...</td>\n",
       "      <td>2802035</td>\n",
       "      <td>Routine Inspection</td>\n",
       "    </tr>\n",
       "  </tbody>\n",
       "</table>\n",
       "</div>"
      ],
      "text/plain": [
       "          Restaurant Name Zip Code Inspection Date  Score  \\\n",
       "0  183 Grill Austin Gyros    78729      01/28/2016     95   \n",
       "1  183 Grill Austin Gyros    78729      04/10/2017     95   \n",
       "2  183 Grill Austin Gyros    78729      08/08/2016     95   \n",
       "3        15th Street Cafe    78701      11/10/2015     86   \n",
       "4  2 Dine 4 Fine Catering    78702      05/18/2015     87   \n",
       "\n",
       "                                             Address  Facility ID  \\\n",
       "0  13729 N US 183 HWY NB Unit 890\\nAUSTIN, TX 787...     11368998   \n",
       "1  13729 N US 183 HWY NB Unit 890\\nAUSTIN, TX 787...     11368998   \n",
       "2  13729 N US 183 HWY NB Unit 890\\nAUSTIN, TX 787...     11368998   \n",
       "3  303 W 15TH ST\\nAUSTIN, TX 78701\\n(30.277693, -...      2801033   \n",
       "4  3008 GONZALES ST\\nAUSTIN, TX 78702\\n(30.259363...      2802035   \n",
       "\n",
       "  Process Description  \n",
       "0  Routine Inspection  \n",
       "1  Routine Inspection  \n",
       "2  Routine Inspection  \n",
       "3  Routine Inspection  \n",
       "4  Routine Inspection  "
      ]
     },
     "execution_count": 4,
     "metadata": {},
     "output_type": "execute_result"
    }
   ],
   "source": [
    "res_df.head()"
   ]
  },
  {
   "cell_type": "code",
   "execution_count": 9,
   "metadata": {},
   "outputs": [
    {
     "data": {
      "text/plain": [
       "(array([  1.00000000e+00,   0.00000000e+00,   2.00000000e+00,\n",
       "          0.00000000e+00,   5.00000000e+00,   1.20000000e+01,\n",
       "          1.90000000e+01,   3.50000000e+01,   4.40000000e+01,\n",
       "          4.20000000e+01,   3.13000000e+02,   4.46000000e+02,\n",
       "          5.85000000e+02,   9.75000000e+02,   1.40500000e+03,\n",
       "          2.72900000e+03,   3.08600000e+03,   3.81000000e+03,\n",
       "          4.04500000e+03,   7.77700000e+03]),\n",
       " array([  36. ,   39.2,   42.4,   45.6,   48.8,   52. ,   55.2,   58.4,\n",
       "          61.6,   64.8,   68. ,   71.2,   74.4,   77.6,   80.8,   84. ,\n",
       "          87.2,   90.4,   93.6,   96.8,  100. ]),\n",
       " <a list of 20 Patch objects>)"
      ]
     },
     "execution_count": 9,
     "metadata": {},
     "output_type": "execute_result"
    },
    {
     "data": {
      "image/png": "[encoded data removed]",
      "text/plain": [
       "<matplotlib.figure.Figure at 0x110af5f98>"
      ]
     },
     "metadata": {},
     "output_type": "display_data"
    }
   ],
   "source": [
    "score = res_df['Score']\n",
    "plt.title('Restaurant Inspection Scores')\n",
    "plt.xlabel('Score')\n",
    "plt.hist(score, bins=20)"
   ]
  },
  {
   "cell_type": "code",
   "execution_count": 10,
   "metadata": {},
   "outputs": [
    {
     "data": {
      "text/plain": [
       "{'boxes': [<matplotlib.lines.Line2D at 0x11132d860>],\n",
       " 'caps': [<matplotlib.lines.Line2D at 0x111338be0>,\n",
       "  <matplotlib.lines.Line2D at 0x111340a90>],\n",
       " 'fliers': [<matplotlib.lines.Line2D at 0x1114c7b00>],\n",
       " 'means': [],\n",
       " 'medians': [<matplotlib.lines.Line2D at 0x111340c50>],\n",
       " 'whiskers': [<matplotlib.lines.Line2D at 0x11132da20>,\n",
       "  <matplotlib.lines.Line2D at 0x111338a20>]}"
      ]
     },
     "execution_count": 10,
     "metadata": {},
     "output_type": "execute_result"
    },
    {
     "data": {
      "image/png": "[encoded data removed]",
      "text/plain": [
       "<matplotlib.figure.Figure at 0x11125ab00>"
      ]
     },
     "metadata": {},
     "output_type": "display_data"
    }
   ],
   "source": [
    "plt.boxplot(score)"
   ]
  },
  {
   "cell_type": "code",
   "execution_count": 11,
   "metadata": {},
   "outputs": [
    {
     "data": {
      "text/plain": [
       "['Restaurant Name',\n",
       " 'Zip Code',\n",
       " 'Inspection Date',\n",
       " 'Score',\n",
       " 'Address',\n",
       " 'Facility ID',\n",
       " 'Process Description']"
      ]
     },
     "execution_count": 11,
     "metadata": {},
     "output_type": "execute_result"
    }
   ],
   "source": [
    "list(res_df.columns.values)"
   ]
  },
  {
   "cell_type": "code",
   "execution_count": 16,
   "metadata": {},
   "outputs": [
    {
     "data": {
      "text/plain": [
       "array(['183 Grill Austin Gyros', '15th Street Cafe',\n",
       "       '2 Dine 4 Fine Catering', ..., 'Your Dream Wedding & Events, Inc.',\n",
       "       'Yard House #8366', \"Z'Tejas Southwestern Grill\"], dtype=object)"
      ]
     },
     "execution_count": 16,
     "metadata": {},
     "output_type": "execute_result"
    }
   ],
   "source": [
    "res_df['Restaurant Name'].unique()"
   ]
  },
  {
   "cell_type": "code",
   "execution_count": 21,
   "metadata": {},
   "outputs": [
    {
     "data": {
      "text/plain": [
       "4499"
      ]
     },
     "execution_count": 21,
     "metadata": {},
     "output_type": "execute_result"
    }
   ],
   "source": [
    "restaurants = res_df['Restaurant Name'].unique()\n",
    "len(restaurants)"
   ]
  },
  {
   "cell_type": "code",
   "execution_count": 24,
   "metadata": {},
   "outputs": [
    {
     "name": "stdout",
     "output_type": "stream",
     "text": [
      "['78729' '78701' '78702' '78705' '78745' '78652' '78717' '78660' '78704'\n",
      " '78744' '78734' '78732' '78758' '78754' '78749' '78750' '78653' '78719'\n",
      " '78753' '78752' '78728' '78748' '78613' '78722' '78723' '78751' '78759'\n",
      " '78726' '78735' '78757' '78669' '78746' '78756' '78703' '78721' '78731'\n",
      " '78738' '78741' '78739' '78733' '78730' '78724' '78747' '78617' '78641'\n",
      " '78620' '78737' '78727' 'Hwy 290 E\\nAustin TX  78723' '78736' '78725'\n",
      " '78654' '78742' '78615' '78610' '6\\nAustin, TX  78741']\n"
     ]
    },
    {
     "data": {
      "text/plain": [
       "56"
      ]
     },
     "execution_count": 24,
     "metadata": {},
     "output_type": "execute_result"
    }
   ],
   "source": [
    "res_df['Zip Code'].unique()\n",
    "print(res_df['Zip Code'].unique())\n",
    "zipcode = res_df['Zip Code'].unique()\n",
    "len(zipcode)"
   ]
  },
  {
   "cell_type": "code",
   "execution_count": null,
   "metadata": {},
   "outputs": [],
   "source": []
  },
  {
   "cell_type": "code",
   "execution_count": null,
   "metadata": {
    "collapsed": true
   },
   "outputs": [],
   "source": []
  }
 ],
 "metadata": {
  "kernelspec": {
   "display_name": "Python 3",
   "language": "python",
   "name": "python3"
  },
  "language_info": {
   "codemirror_mode": {
    "name": "ipython",
    "version": 3
   },
   "file_extension": ".py",
   "mimetype": "text/x-python",
   "name": "python",
   "nbconvert_exporter": "python",
   "pygments_lexer": "ipython3",
   "version": "3.6.1"
  }
 },
 "nbformat": 4,
 "nbformat_minor": 2
}
